{
 "cells": [
  {
   "cell_type": "markdown",
   "id": "665d859e",
   "metadata": {},
   "source": [
    "# Final Report – Predicting Employee Attrition with Explainable ML"
   ]
  },
  {
   "cell_type": "markdown",
   "id": "1ea64eac",
   "metadata": {},
   "source": [
    "## 1. Project Overview\n",
    "\n",
    "This project analyzes the IBM HR Analytics Employee Attrition dataset to predict whether an employee is likely to leave the company.\n",
    "\n",
    "The goal is to:\n",
    "- Build a reliable classification model to identify attrition risk\n",
    "- Interpret the model's decisions using explainability tools\n",
    "- Provide actionable insights for HR decision-makers\n",
    "\n",
    "Tools used: Python, pandas, scikit-learn, SHAP, LIME, matplotlib"
   ]
  },
  {
   "cell_type": "markdown",
   "id": "3f5e0805",
   "metadata": {},
   "source": [
    "## 2. Dataset Summary\n",
    "\n",
    "- **Source**: IBM HR Analytics Employee Attrition dataset (Kaggle)\n",
    "- **Rows**: 1470 employees\n",
    "- **Features**: 35 columns including age, department, income, job satisfaction, etc.\n",
    "- **Target**: `Attrition` (Yes = left, No = stayed)\n",
    "\n",
    "Notable characteristics:\n",
    "- No missing values\n",
    "- Highly imbalanced target (≈16% attrition)\n",
    "- Mix of numerical and categorical variables"
   ]
  },
  {
   "cell_type": "markdown",
   "id": "b55c3f61",
   "metadata": {},
   "source": [
    "## 3. Methodology\n",
    "\n",
    "The project followed a standard machine learning workflow:\n",
    "\n",
    "1. **EDA**: Feature distributions, correlation analysis, and outlier detection\n",
    "2. **Preprocessing**:\n",
    "   - Dropped constant and non-informative columns\n",
    "   - Engineered features (e.g., tenure ratios, satisfaction averages)\n",
    "   - Encoded categorical variables\n",
    "   - Scaled numerical features\n",
    "3. **Class imbalance**: Handled using SMOTE oversampling\n",
    "4. **Modeling**:\n",
    "   - Trained Logistic Regression with GridSearchCV\n",
    "   - Tuned hyperparameters and threshold\n",
    "   - Evaluated using accuracy, F1, ROC AUC, confusion matrix\n",
    "5. **Explainability**:\n",
    "   - Global + local explanations using SHAP\n",
    "   - Per-instance breakdowns using LIME"
   ]
  },
  {
   "cell_type": "markdown",
   "id": "f8457a8d",
   "metadata": {},
   "source": [
    "## 4. Final Model Performance (Logistic Regression)\n",
    "\n",
    "| Metric       | Value |\n",
    "|--------------|-------|\n",
    "| Accuracy     | X.XXX |\n",
    "| Precision    | X.XXX |\n",
    "| Recall       | X.XXX |\n",
    "| F1 Score     | X.XXX |\n",
    "| ROC AUC      | X.XXX |\n",
    "| Threshold    | X.XXX (optimized via F1) |\n",
    "\n",
    "Classified using a threshold optimized for F1 balance.\n",
    "\n",
    "Confusion matrix and ROC curve show strong performance on identifying attrition cases while minimizing false positives."
   ]
  },
  {
   "cell_type": "markdown",
   "id": "644d2c4a",
   "metadata": {},
   "source": [
    "## 5. Explainability Highlights\n",
    "\n",
    "- **Top global predictors** (SHAP):\n",
    "  - `OverTime`, `JobLevel`, `Age`, `MonthlyIncome`, `DistanceFromHome`\n",
    "- **False negatives** were often low-income, high-commute cases with no overtime\n",
    "- **SHAP waterfall plots** clarified how feature values push predictions toward/away from attrition\n",
    "- **LIME explanations** confirmed individual predictions and aligned with SHAP insights\n",
    "\n",
    "Together, SHAP and LIME made the model’s logic transparent and trustable."
   ]
  },
  {
   "cell_type": "markdown",
   "id": "32deb7a6",
   "metadata": {},
   "source": [
    "## 6. Business Insights\n",
    "\n",
    "- Employees with **frequent overtime** and **low job levels** are at elevated attrition risk.\n",
    "- High-income employees are generally less likely to leave unless paired with high stress signals (e.g., low satisfaction, high commute).\n",
    "- Some at-risk cases may go unnoticed without explainable models — thresholds and probability ranking matter.\n",
    "\n",
    "This model can help HR teams proactively identify and support at-risk employees.\n",
    "## 6. Limitations and Future Work "
   ]
  },
  {
   "cell_type": "markdown",
   "id": "a7adb491",
   "metadata": {},
   "source": [
    "## 7. Limitations & Future Work\n",
    "\n",
    "**Limitations:**\n",
    "- Small dataset (1470 rows)\n",
    "- Based on simulated HR data, not real company logs\n",
    "- Interpretability limited by feature granularity\n",
    "\n",
    "**Future improvements:**\n",
    "- Test on real organizational data\n",
    "- Compare logistic regression with tree-based models (e.g., XGBoost with SHAP)\n",
    "- Integrate explanations into HR dashboards for ongoing monitoring"
   ]
  },
  {
   "cell_type": "markdown",
   "id": "1de11ee3",
   "metadata": {},
   "source": [
    "## 8. Conclusion\n",
    "\n",
    "This project delivered a transparent, effective employee attrition prediction pipeline. Through careful preprocessing, tuning, and explainability integration, the final model balances predictive power with interpretability — making it suitable for real-world HR decision support.\n",
    "\n",
    "Next steps: deployment, monitoring, and business alignment."
   ]
  }
 ],
 "metadata": {
  "kernelspec": {
   "display_name": "ibm-attrition-env",
   "language": "python",
   "name": "python3"
  },
  "language_info": {
   "name": "python",
   "version": "3.11.13"
  }
 },
 "nbformat": 4,
 "nbformat_minor": 5
}
